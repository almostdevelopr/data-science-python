{
  "nbformat": 4,
  "nbformat_minor": 0,
  "metadata": {
    "colab": {
      "name": "try-except.ipynb",
      "provenance": [],
      "collapsed_sections": [],
      "authorship_tag": "ABX9TyN/+rL+aNhtPa6i37/opZKN",
      "include_colab_link": true
    },
    "kernelspec": {
      "name": "python3",
      "display_name": "Python 3"
    },
    "language_info": {
      "name": "python"
    }
  },
  "cells": [
    {
      "cell_type": "markdown",
      "metadata": {
        "id": "view-in-github",
        "colab_type": "text"
      },
      "source": [
        "<a href=\"https://colab.research.google.com/github/almostdevelopr/data-science-python/blob/main/python/try_except.ipynb\" target=\"_parent\"><img src=\"https://colab.research.google.com/assets/colab-badge.svg\" alt=\"Open In Colab\"/></a>"
      ]
    },
    {
      "cell_type": "code",
      "execution_count": null,
      "metadata": {
        "id": "3TQqKNWTw-XA"
      },
      "outputs": [],
      "source": [
        "def askInt():\n",
        "  try:\n",
        "    v=int(input(\"Enter some integer value: \"))\n",
        "  except ValueError as e:\n",
        "    print(\"Please enter a valid integer value\")\n",
        "  finally:\n",
        "    print(\"This is a finally block\")\n",
        "    try:\n",
        "      print(v) # no value is assigned to v as typecasting failed\n",
        "    except Exception as e:\n",
        "      print(e)\n",
        "    else:\n",
        "      print(\"this is an else block---\")"
      ]
    },
    {
      "cell_type": "code",
      "source": [
        "askInt()"
      ],
      "metadata": {
        "colab": {
          "base_uri": "https://localhost:8080/"
        },
        "id": "6clpW2g8xfbm",
        "outputId": "9e0d5213-e8ea-436b-969d-a94d7174b903"
      },
      "execution_count": null,
      "outputs": [
        {
          "output_type": "stream",
          "name": "stdout",
          "text": [
            "Enter some integer value: 23\n",
            "This is a finally block\n",
            "23\n",
            "this is an else block---\n"
          ]
        }
      ]
    },
    {
      "cell_type": "code",
      "source": [
        "# run block of the code as long as input is not integer\n",
        "\n",
        "def askInf():\n",
        "    while True:\n",
        "        try:\n",
        "          v=int(input(\"Enter an integer\"))\n",
        "        except Exception as e:\n",
        "            print(e)\n",
        "            continue\n",
        "        else:\n",
        "            print(\"Else block...\")\n",
        "            break\n",
        "        finally:\n",
        "            print(\"finally block...\")\n",
        "\n"
      ],
      "metadata": {
        "id": "tubvUYD5yCJ0"
      },
      "execution_count": null,
      "outputs": []
    },
    {
      "cell_type": "code",
      "source": [
        "askInf()"
      ],
      "metadata": {
        "colab": {
          "base_uri": "https://localhost:8080/"
        },
        "id": "6sYkvTmd2w9u",
        "outputId": "2647537f-ae87-4d1f-9bde-7f47e2880845"
      },
      "execution_count": null,
      "outputs": [
        {
          "output_type": "stream",
          "name": "stdout",
          "text": [
            "Enter an integer12\n",
            "Else block...\n",
            "finally block...\n"
          ]
        }
      ]
    },
    {
      "cell_type": "code",
      "source": [
        "askInf()"
      ],
      "metadata": {
        "colab": {
          "base_uri": "https://localhost:8080/"
        },
        "id": "gi42Q9VS2zNF",
        "outputId": "8cf0aeb9-3a71-46d8-de15-88e2b5dc36bb"
      },
      "execution_count": null,
      "outputs": [
        {
          "output_type": "stream",
          "name": "stdout",
          "text": [
            "Enter an integeras\n",
            "invalid literal for int() with base 10: 'as'\n",
            "finally block...\n",
            "Enter an integerasdf\n",
            "invalid literal for int() with base 10: 'asdf'\n",
            "finally block...\n",
            "Enter an integer23\n",
            "Else block...\n",
            "finally block...\n"
          ]
        }
      ]
    },
    {
      "cell_type": "markdown",
      "source": [
        "**FileNotFoundError** \n",
        "\n",
        "In this code block, we will try to handle this specific error.\n",
        "\n",
        "*   No such file or directory\n",
        "*   by default, files open in read mode only\n",
        "*   Handle specific errors, as in try to run and find out the exact error\n",
        "\n",
        "\n"
      ],
      "metadata": {
        "id": "Q-7wXABQ9loR"
      }
    },
    {
      "cell_type": "code",
      "source": [
        "try:\n",
        "    f=open(\"xyz.txt\")\n",
        "    f.write(\"Line 1.....\")\n",
        "except FileExistsError as e:\n",
        "    print(e)\n",
        "except FileNotFoundError as e:\n",
        "    print(\"Please check if file exists or not.\",e)"
      ],
      "metadata": {
        "id": "em0Ae87V37V5",
        "colab": {
          "base_uri": "https://localhost:8080/"
        },
        "outputId": "e662ef9d-89c5-44d9-f804-63dc5a592665"
      },
      "execution_count": 35,
      "outputs": [
        {
          "output_type": "stream",
          "name": "stdout",
          "text": [
            "Please check if file exists or not. [Errno 2] No such file or directory: 'xyz.txt'\n"
          ]
        }
      ]
    },
    {
      "cell_type": "markdown",
      "source": [
        "**Custom errors:**\n",
        "\n",
        "To throw (or *raise*) an exception, use the *raise* keyword.\n",
        "You can define what kind of error to raise, and the text to print to the user.\n",
        "\n"
      ],
      "metadata": {
        "id": "hRGdvEQ-GbJm"
      }
    },
    {
      "cell_type": "code",
      "source": [
        "try:\n",
        "    num=int(input(\"Enter an integer : \"))\n",
        "    if num <10:\n",
        "        raise ValueError(\"This is not a valid integer.\")\n",
        "except ValueError as e:\n",
        "    print(e)"
      ],
      "metadata": {
        "colab": {
          "base_uri": "https://localhost:8080/"
        },
        "id": "0LuDfx6-G63t",
        "outputId": "8d7de27c-dfee-44fc-c29e-2a05917620f7"
      },
      "execution_count": 37,
      "outputs": [
        {
          "output_type": "stream",
          "name": "stdout",
          "text": [
            "Enter an integer : 1\n",
            "This is not a valid integer.\n"
          ]
        }
      ]
    },
    {
      "cell_type": "code",
      "source": [
        ""
      ],
      "metadata": {
        "id": "PVWnhk1oH1cK"
      },
      "execution_count": null,
      "outputs": []
    }
  ]
}
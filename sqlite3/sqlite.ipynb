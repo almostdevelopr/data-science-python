{
  "nbformat": 4,
  "nbformat_minor": 0,
  "metadata": {
    "colab": {
      "name": "sqlite.ipynb",
      "provenance": [],
      "authorship_tag": "ABX9TyPZXXJiWz2fxharuH7I8Jhi",
      "include_colab_link": true
    },
    "kernelspec": {
      "name": "python3",
      "display_name": "Python 3"
    },
    "language_info": {
      "name": "python"
    }
  },
  "cells": [
    {
      "cell_type": "markdown",
      "metadata": {
        "id": "view-in-github",
        "colab_type": "text"
      },
      "source": [
        "<a href=\"https://colab.research.google.com/github/almostdevelopr/data-science-python/blob/main/sqlite3/sqlite.ipynb\" target=\"_parent\"><img src=\"https://colab.research.google.com/assets/colab-badge.svg\" alt=\"Open In Colab\"/></a>"
      ]
    },
    {
      "cell_type": "markdown",
      "source": [
        "In this notebook, we will try to implement/use databases with the help of python. In this notebook, we will use very simple, lite database called sqlite database.\n",
        "\n",
        "* In memory database -> (final in database)"
      ],
      "metadata": {
        "id": "ijcZYKL6JOSb"
      }
    },
    {
      "cell_type": "code",
      "source": [
        "import sqlite3"
      ],
      "metadata": {
        "id": "MHIk6in6Jhid"
      },
      "execution_count": 1,
      "outputs": []
    },
    {
      "cell_type": "markdown",
      "source": [
        "Connect to the database SQLite3"
      ],
      "metadata": {
        "id": "hsD2YlXKNA0X"
      }
    },
    {
      "cell_type": "code",
      "source": [
        "# establish connection\n",
        "connection=sqlite3.connect(\"xyz\") # xyz -> database"
      ],
      "metadata": {
        "id": "pHwyV8asMp3e"
      },
      "execution_count": 2,
      "outputs": []
    },
    {
      "cell_type": "code",
      "source": [
        "connection.execute(\"DROP TABLE IF EXISTS ABC\")"
      ],
      "metadata": {
        "colab": {
          "base_uri": "https://localhost:8080/"
        },
        "id": "NpWb7XuZNerX",
        "outputId": "3bcaf556-00a6-4855-dd66-6f5667e15823"
      },
      "execution_count": 3,
      "outputs": [
        {
          "output_type": "execute_result",
          "data": {
            "text/plain": [
              "<sqlite3.Cursor at 0x7f472c1c59d0>"
            ]
          },
          "metadata": {},
          "execution_count": 3
        }
      ]
    },
    {
      "cell_type": "markdown",
      "source": [
        "Returns cursor to the connection."
      ],
      "metadata": {
        "id": "jysLb0OHN1w4"
      }
    },
    {
      "cell_type": "code",
      "source": [
        "connection.execute(\"CREATE TABLE ABC(id int, name text, score int)\")"
      ],
      "metadata": {
        "colab": {
          "base_uri": "https://localhost:8080/"
        },
        "id": "QAtFTnGSNx8X",
        "outputId": "88f8ec8e-12bd-4717-c983-45e75c528fd6"
      },
      "execution_count": 4,
      "outputs": [
        {
          "output_type": "execute_result",
          "data": {
            "text/plain": [
              "<sqlite3.Cursor at 0x7f472c9f9ea0>"
            ]
          },
          "metadata": {},
          "execution_count": 4
        }
      ]
    },
    {
      "cell_type": "code",
      "source": [
        "connection.execute(\"INSERT INTO ABC(id,name,score) VALUES(590,'almost',99)\")"
      ],
      "metadata": {
        "colab": {
          "base_uri": "https://localhost:8080/"
        },
        "id": "DbVUSHovOPu5",
        "outputId": "1f8d5071-3153-4dcb-c7db-2469378d4dc3"
      },
      "execution_count": 5,
      "outputs": [
        {
          "output_type": "execute_result",
          "data": {
            "text/plain": [
              "<sqlite3.Cursor at 0x7f4727f4a8f0>"
            ]
          },
          "metadata": {},
          "execution_count": 5
        }
      ]
    },
    {
      "cell_type": "code",
      "source": [
        "connection.commit()"
      ],
      "metadata": {
        "id": "QiAKi9dRRIrb"
      },
      "execution_count": 6,
      "outputs": []
    },
    {
      "cell_type": "code",
      "source": [
        "connection.execute(\"INSERT INTO ABC(id,name,score) VALUES(591,'almost1',69)\")\n",
        "connection.execute(\"INSERT INTO ABC(id,name,score) VALUES(592,'almost2',79)\")\n",
        "connection.execute(\"INSERT INTO ABC(id,name,score) VALUES(593,'almost3',89)\")\n",
        "connection.execute(\"INSERT INTO ABC(id,name,score) VALUES(594,'almost4',39)\")\n",
        "connection.execute(\"INSERT INTO ABC(id,name,score) VALUES(595,'almost5',59)\")\n",
        "connection.execute(\"INSERT INTO ABC(id,name,score) VALUES(596,'almost6',49)\")\n",
        "connection.execute(\"INSERT INTO ABC(id,name,score) VALUES(597,'almost7',99)\")"
      ],
      "metadata": {
        "colab": {
          "base_uri": "https://localhost:8080/"
        },
        "id": "OCQ44K61Rfpt",
        "outputId": "390463fd-46cc-4a40-f832-b41ecff1492e"
      },
      "execution_count": 7,
      "outputs": [
        {
          "output_type": "execute_result",
          "data": {
            "text/plain": [
              "<sqlite3.Cursor at 0x7f4727ee82d0>"
            ]
          },
          "metadata": {},
          "execution_count": 7
        }
      ]
    },
    {
      "cell_type": "code",
      "source": [
        "connection.commit()"
      ],
      "metadata": {
        "id": "IanxXCipSFNe"
      },
      "execution_count": 8,
      "outputs": []
    },
    {
      "cell_type": "markdown",
      "source": [
        "Let us try to query table data"
      ],
      "metadata": {
        "id": "T3En2qjeRpMx"
      }
    },
    {
      "cell_type": "code",
      "source": [
        "list(connection.execute(\"SELECT * FROM ABC\"))"
      ],
      "metadata": {
        "colab": {
          "base_uri": "https://localhost:8080/"
        },
        "id": "Cee1o2hQRtTa",
        "outputId": "7e83f7a3-a25b-4964-9be3-1bce13eeae03"
      },
      "execution_count": 10,
      "outputs": [
        {
          "output_type": "execute_result",
          "data": {
            "text/plain": [
              "[(590, 'almost', 99),\n",
              " (591, 'almost1', 69),\n",
              " (592, 'almost2', 79),\n",
              " (593, 'almost3', 89),\n",
              " (594, 'almost4', 39),\n",
              " (595, 'almost5', 59),\n",
              " (596, 'almost6', 49),\n",
              " (597, 'almost7', 99)]"
            ]
          },
          "metadata": {},
          "execution_count": 10
        }
      ]
    },
    {
      "cell_type": "code",
      "source": [
        "list(connection.execute(\"select * from ABC\"))[0]"
      ],
      "metadata": {
        "colab": {
          "base_uri": "https://localhost:8080/"
        },
        "id": "Di6uDbv-SOrM",
        "outputId": "3afe3702-a109-4c26-b16a-1411411ebd03"
      },
      "execution_count": 11,
      "outputs": [
        {
          "output_type": "execute_result",
          "data": {
            "text/plain": [
              "(590, 'almost', 99)"
            ]
          },
          "metadata": {},
          "execution_count": 11
        }
      ]
    },
    {
      "cell_type": "code",
      "source": [
        "for i in connection.execute(\"select * from ABC\"):\n",
        "    print(i)"
      ],
      "metadata": {
        "colab": {
          "base_uri": "https://localhost:8080/"
        },
        "id": "_6KhhBJES0if",
        "outputId": "847207bb-4051-4ffd-f6eb-df0175509a16"
      },
      "execution_count": 12,
      "outputs": [
        {
          "output_type": "stream",
          "name": "stdout",
          "text": [
            "(590, 'almost', 99)\n",
            "(591, 'almost1', 69)\n",
            "(592, 'almost2', 79)\n",
            "(593, 'almost3', 89)\n",
            "(594, 'almost4', 39)\n",
            "(595, 'almost5', 59)\n",
            "(596, 'almost6', 49)\n",
            "(597, 'almost7', 99)\n"
          ]
        }
      ]
    },
    {
      "cell_type": "code",
      "source": [
        "for i in connection.execute(\"select * from ABC order by score\"): # ascending order\n",
        "    print(i)"
      ],
      "metadata": {
        "colab": {
          "base_uri": "https://localhost:8080/"
        },
        "id": "r8dLo3fBTKG8",
        "outputId": "3f0c53f6-7610-4588-b338-fccbd45b0e71"
      },
      "execution_count": 14,
      "outputs": [
        {
          "output_type": "stream",
          "name": "stdout",
          "text": [
            "(594, 'almost4', 39)\n",
            "(596, 'almost6', 49)\n",
            "(595, 'almost5', 59)\n",
            "(591, 'almost1', 69)\n",
            "(592, 'almost2', 79)\n",
            "(593, 'almost3', 89)\n",
            "(590, 'almost', 99)\n",
            "(597, 'almost7', 99)\n"
          ]
        }
      ]
    },
    {
      "cell_type": "code",
      "source": [
        "for i in connection.execute(\"select id,name from ABC where name='almost3'\"):\n",
        "    print(i)"
      ],
      "metadata": {
        "colab": {
          "base_uri": "https://localhost:8080/"
        },
        "id": "hkNuJ9YSTY_L",
        "outputId": "fe79b65a-7ebe-42f7-c0c2-32a88de60625"
      },
      "execution_count": 16,
      "outputs": [
        {
          "output_type": "stream",
          "name": "stdout",
          "text": [
            "(593, 'almost3')\n"
          ]
        }
      ]
    },
    {
      "cell_type": "code",
      "source": [
        ""
      ],
      "metadata": {
        "id": "LvtKRMOVTyQP"
      },
      "execution_count": null,
      "outputs": []
    }
  ]
}
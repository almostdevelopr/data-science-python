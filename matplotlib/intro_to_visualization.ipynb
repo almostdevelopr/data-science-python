{
  "nbformat": 4,
  "nbformat_minor": 0,
  "metadata": {
    "colab": {
      "name": "intro-to-visualization.ipynb",
      "provenance": [],
      "authorship_tag": "ABX9TyMoioStSAHZWMLw1jQ8cyWr",
      "include_colab_link": true
    },
    "kernelspec": {
      "name": "python3",
      "display_name": "Python 3"
    },
    "language_info": {
      "name": "python"
    }
  },
  "cells": [
    {
      "cell_type": "markdown",
      "metadata": {
        "id": "view-in-github",
        "colab_type": "text"
      },
      "source": [
        "<a href=\"https://colab.research.google.com/github/almostdevelopr/data-science-python/blob/main/matplotlib/intro_to_visualization.ipynb\" target=\"_parent\"><img src=\"https://colab.research.google.com/assets/colab-badge.svg\" alt=\"Open In Colab\"/></a>"
      ]
    },
    {
      "cell_type": "code",
      "execution_count": null,
      "metadata": {
        "id": "FsljHYPkU1ev"
      },
      "outputs": [],
      "source": [
        ""
      ]
    }
  ]
}